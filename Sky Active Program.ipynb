{
 "cells": [
  {
   "cell_type": "markdown",
   "id": "08f68f83",
   "metadata": {},
   "source": [
    "# Sky Active Program"
   ]
  },
  {
   "cell_type": "markdown",
   "id": "810883a0",
   "metadata": {},
   "source": [
    "แนวคิด : วันหนึ่งผมตื่นมา มีอาการคอแห้ง และปวดตัว จึงถามตัวเองว่าเมื่อวาน ได้กินน้ำบ้างหรือไม่ จากการอยู่หน้าจอทั้งวันในช่วงสถานการณ์โควิด โปรแกรมนี้จัดทำขึ้น เพื่อแก้ปัญหาเล็ก ๆ ในการใช้ชีวิตประจำวัน"
   ]
  },
  {
   "cell_type": "markdown",
   "id": "27b9f647",
   "metadata": {},
   "source": [
    "หลักการ : โปรแกรมจะทำการ Pop Up เพื่อแจ้งเตือนทุก 3 ชั่วโมง 4 ครั้งต่อวัน (12 ชั่วโมง) ให้ทำกิจกรรมตามที่แจ้งหากตอบว่า \"ใช่\" โปรแกรมจะดำเนินการอีกครั้งใน 3 ชั่วโมงถัดไป หากตอบว่า \"ไม่\" โปรแกรมจะแจ้งเตือนให้ไปทำกิจกรรมดังกล่าว และดำเนินการอีกครั้งใน 3 ชั่วโมง"
   ]
  },
  {
   "cell_type": "markdown",
   "id": "9b05eaea",
   "metadata": {},
   "source": [
    "โดยถ้าใช้โปรแกรมนี้เป็นครั้งแรกให้กด Run ในส่วนของ `!pip install pyautogui` และ `!pip install schedule`"
   ]
  },
  {
   "cell_type": "code",
   "execution_count": 17,
   "id": "51888384",
   "metadata": {
    "scrolled": false
   },
   "outputs": [
    {
     "name": "stdout",
     "output_type": "stream",
     "text": [
      "Requirement already satisfied: pyautogui in c:\\users\\guyakanash1\\appdata\\local\\programs\\python\\python39\\lib\\site-packages (0.9.53)\n",
      "Requirement already satisfied: pymsgbox in c:\\users\\guyakanash1\\appdata\\local\\programs\\python\\python39\\lib\\site-packages (from pyautogui) (1.0.9)\n",
      "Requirement already satisfied: PyTweening>=1.0.1 in c:\\users\\guyakanash1\\appdata\\local\\programs\\python\\python39\\lib\\site-packages (from pyautogui) (1.0.4)\n",
      "Requirement already satisfied: pyscreeze>=0.1.21 in c:\\users\\guyakanash1\\appdata\\local\\programs\\python\\python39\\lib\\site-packages (from pyautogui) (0.1.28)\n",
      "Requirement already satisfied: pygetwindow>=0.0.5 in c:\\users\\guyakanash1\\appdata\\local\\programs\\python\\python39\\lib\\site-packages (from pyautogui) (0.0.9)\n",
      "Requirement already satisfied: mouseinfo in c:\\users\\guyakanash1\\appdata\\local\\programs\\python\\python39\\lib\\site-packages (from pyautogui) (0.1.3)\n",
      "Requirement already satisfied: pyrect in c:\\users\\guyakanash1\\appdata\\local\\programs\\python\\python39\\lib\\site-packages (from pygetwindow>=0.0.5->pyautogui) (0.2.0)\n",
      "Requirement already satisfied: pyperclip in c:\\users\\guyakanash1\\appdata\\local\\programs\\python\\python39\\lib\\site-packages (from mouseinfo->pyautogui) (1.8.2)\n"
     ]
    }
   ],
   "source": [
    "!pip install pyautogui"
   ]
  },
  {
   "cell_type": "code",
   "execution_count": 3,
   "id": "8f39ec9f",
   "metadata": {
    "scrolled": true
   },
   "outputs": [
    {
     "name": "stdout",
     "output_type": "stream",
     "text": [
      "Requirement already satisfied: schedule in c:\\users\\guyakanash1\\appdata\\local\\programs\\python\\python39\\lib\\site-packages (1.1.0)\n"
     ]
    }
   ],
   "source": [
    "!pip install schedule"
   ]
  },
  {
   "cell_type": "code",
   "execution_count": 1,
   "id": "f7a55f5d",
   "metadata": {},
   "outputs": [],
   "source": [
    "import time"
   ]
  },
  {
   "cell_type": "code",
   "execution_count": 2,
   "id": "d444085d",
   "metadata": {},
   "outputs": [],
   "source": [
    "import pyautogui"
   ]
  },
  {
   "cell_type": "code",
   "execution_count": 3,
   "id": "adc48856",
   "metadata": {},
   "outputs": [],
   "source": [
    "import schedule\n",
    "from datetime import datetime\n",
    "import time"
   ]
  },
  {
   "cell_type": "code",
   "execution_count": 7,
   "id": "1c087356",
   "metadata": {
    "scrolled": true
   },
   "outputs": [],
   "source": [
    "def a():\n",
    "    pyautogui.confirm(text=\"Did you sleep for 7 hours?\", title=\"SkyActiveProgram\", buttons=(\"Yes\",\"No\"))"
   ]
  },
  {
   "cell_type": "code",
   "execution_count": 8,
   "id": "d9fa5b3a",
   "metadata": {
    "scrolled": true
   },
   "outputs": [],
   "source": [
    "def b():\n",
    "    pyautogui.confirm(text=\"Drink some water.\", title=\"SkyActiveProgram\", buttons=(\"Yes\",\"No\"))"
   ]
  },
  {
   "cell_type": "code",
   "execution_count": 9,
   "id": "bfef9c14",
   "metadata": {},
   "outputs": [],
   "source": [
    "def c():\n",
    "    pyautogui.confirm(text=\"Get out and go to exercise.\", title=\"SkyActiveProgram\", buttons=(\"Yes\",\"No\"))"
   ]
  },
  {
   "cell_type": "code",
   "execution_count": 10,
   "id": "20065e1e",
   "metadata": {},
   "outputs": [],
   "source": [
    "def d():\n",
    "    pyautogui.confirm(text=\"Go to sleep!!\", title=\"SkyActiveProgram\", buttons=(\"Yes\",\"No\"))"
   ]
  },
  {
   "cell_type": "code",
   "execution_count": null,
   "id": "24a2f1aa",
   "metadata": {},
   "outputs": [],
   "source": [
    "result = pyautogui.confirm(text=\"Did you sleep for 7 hours?\", title=\"SkyActiveProgram\", buttons=(\"Yes\",\"No\"))\n",
    "if result == \"Yes\":\n",
    "    time.sleep(10800)\n",
    "    b()\n",
    "    if result == \"Yes\":\n",
    "        time.sleep(10800)\n",
    "        c()\n",
    "        if result == \"Yes\":\n",
    "            time.sleep(10800)\n",
    "            b()\n",
    "            if result == \"Yes\":\n",
    "                time.sleep(10800)\n",
    "                d()\n",
    "                if result == \"Yes\":\n",
    "                    print(\"Good Night.\")\n",
    "                    exit()\n",
    "                else:\n",
    "                    print(\"Go to sleep now!!\")\n",
    "                    exit()\n",
    "            else:\n",
    "                print(\"Get some drink\")\n",
    "                time.sleep(10800)\n",
    "                d()\n",
    "                if result == \"Yes\":\n",
    "                    print(\"Good Night.\")\n",
    "                    exit()\n",
    "                else:\n",
    "                    print(\"Go to sleep now!!\")\n",
    "                    exit()\n",
    "        else:\n",
    "            print(\"Go out and do exercise\")\n",
    "            time.sleep(10800)\n",
    "            b()\n",
    "            if result == \"Yes\":\n",
    "                time.sleep(10800)\n",
    "                d()\n",
    "                if result == \"Yes\":\n",
    "                    print(\"Good Night.\")\n",
    "                    exit()\n",
    "                else:\n",
    "                    print(\"Go to sleep now!!\")\n",
    "                    exit()\n",
    "            else:\n",
    "                print(\"Get some drink\")\n",
    "                time.sleep(10800)\n",
    "                d()\n",
    "                if result == \"Yes\":\n",
    "                    print(\"Good Night.\")\n",
    "                    exit()\n",
    "                else:\n",
    "                    print(\"Go to sleep now!!\")\n",
    "                    exit()\n",
    "    else:\n",
    "        print(\"Get some drink\")\n",
    "        time.sleep(10800)\n",
    "        c()\n",
    "        if result == \"Yes\":\n",
    "            time.sleep(10800)\n",
    "            b()\n",
    "            if result == \"Yes\":\n",
    "                time.sleep(10800)\n",
    "                d()\n",
    "                if result == \"Yes\":\n",
    "                    print(\"Good Night.\")\n",
    "                    exit()\n",
    "                else:\n",
    "                    print(\"Go to sleep now!!\")\n",
    "                    exit()\n",
    "            else:\n",
    "                print(\"Get some drink\")\n",
    "                time.sleep(10800)\n",
    "                d()\n",
    "                if result == \"Yes\":\n",
    "                    print(\"Good Night.\")\n",
    "                    exit()\n",
    "                else:\n",
    "                    print(\"Go to sleep now!!\")\n",
    "                    exit()\n",
    "        else:\n",
    "            print(\"Go out and do exercise\")\n",
    "            time.sleep(10800)\n",
    "            b()\n",
    "            if result == \"Yes\":\n",
    "                time.sleep(10800)\n",
    "                d()\n",
    "                if result == \"Yes\":\n",
    "                    print(\"Good Night.\")\n",
    "                    exit()\n",
    "                else:\n",
    "                    print(\"Go to sleep now!!\")\n",
    "                    exit()\n",
    "            else:\n",
    "                print(\"Get some drink\")\n",
    "                time.sleep(10800)\n",
    "                d()\n",
    "                if result == \"Yes\":\n",
    "                    print(\"Good Night.\")\n",
    "                    exit()\n",
    "                else:\n",
    "                    print(\"Go to sleep now!!\")\n",
    "                    exit()\n",
    "else:\n",
    "    print(\"You should sleep early in this day\")\n",
    "    time.sleep(10800)\n",
    "    b()\n",
    "    if result == \"Yes\":\n",
    "        time.sleep(10800)\n",
    "        c()\n",
    "        if result == \"Yes\":\n",
    "            time.sleep(10800)\n",
    "            b()\n",
    "            if result == \"Yes\":\n",
    "                time.sleep(10800)\n",
    "                d()\n",
    "                if result == \"Yes\":\n",
    "                    print(\"Good Night.\")\n",
    "                    exit()\n",
    "                else:\n",
    "                    print(\"Go to sleep now!!\")\n",
    "                    exit()\n",
    "            else:\n",
    "                print(\"Get some drink\")\n",
    "                time.sleep(10800)\n",
    "                d()\n",
    "                if result == \"Yes\":\n",
    "                    print(\"Good Night.\")\n",
    "                    exit()\n",
    "                else:\n",
    "                    print(\"Go to sleep now!!\")\n",
    "                    exit()\n",
    "        else:\n",
    "            print(\"Go out and do exercise\")\n",
    "            time.sleep(10800)\n",
    "            b()\n",
    "            if result == \"Yes\":\n",
    "                time.sleep(10800)\n",
    "                d()\n",
    "                if result == \"Yes\":\n",
    "                    print(\"Good Night.\")\n",
    "                    exit()\n",
    "                else:\n",
    "                    print(\"Go to sleep now!!\")\n",
    "                    exit()\n",
    "            else:\n",
    "                print(\"Get some drink\")\n",
    "                time.sleep(10800)\n",
    "                d()\n",
    "                if result == \"Yes\":\n",
    "                    print(\"Good Night.\")\n",
    "                    exit()\n",
    "                else:\n",
    "                    print(\"Go to sleep now!!\")\n",
    "                    exit()\n",
    "    else:\n",
    "        print(\"Get some drink\")\n",
    "        time.sleep(10800)\n",
    "        c()\n",
    "        if result == \"Yes\":\n",
    "            time.sleep(10800)\n",
    "            b()\n",
    "            if result == \"Yes\":\n",
    "                time.sleep(10800)\n",
    "                d()\n",
    "                if result == \"Yes\":\n",
    "                    print(\"Good Night.\")\n",
    "                    exit()\n",
    "                else:\n",
    "                    print(\"Go to sleep now!!\")\n",
    "                    exit()\n",
    "            else:\n",
    "                print(\"Get some drink\")\n",
    "                time.sleep(10800)\n",
    "                d()\n",
    "                if result == \"Yes\":\n",
    "                    print(\"Good Night.\")\n",
    "                    exit()\n",
    "                else:\n",
    "                    print(\"Go to sleep now!!\")\n",
    "                    exit()\n",
    "        else:\n",
    "            print(\"Go out and do exercise\")\n",
    "            time.sleep(10800)\n",
    "            b()\n",
    "            if result == \"Yes\":\n",
    "                time.sleep(10800)\n",
    "                d()\n",
    "                if result == \"Yes\":\n",
    "                    print(\"Good Night.\")\n",
    "                    exit()\n",
    "                else:\n",
    "                    print(\"Go to sleep now!!\")\n",
    "                    exit()\n",
    "            else:\n",
    "                print(\"Get some drink\")\n",
    "                time.sleep(10800)\n",
    "                d()\n",
    "                if result == \"Yes\":\n",
    "                    print(\"Good Night.\")\n",
    "                    exit()\n",
    "                else:\n",
    "                    print(\"Go to sleep now!!\")\n",
    "                    exit()"
   ]
  }
 ],
 "metadata": {
  "kernelspec": {
   "display_name": "Python 3 (ipykernel)",
   "language": "python",
   "name": "python3"
  },
  "language_info": {
   "codemirror_mode": {
    "name": "ipython",
    "version": 3
   },
   "file_extension": ".py",
   "mimetype": "text/x-python",
   "name": "python",
   "nbconvert_exporter": "python",
   "pygments_lexer": "ipython3",
   "version": "3.9.5"
  }
 },
 "nbformat": 4,
 "nbformat_minor": 5
}
